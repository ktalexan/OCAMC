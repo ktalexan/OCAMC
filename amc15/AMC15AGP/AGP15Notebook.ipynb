{
 "cells": [
  {
   "cell_type": "markdown",
   "metadata": {},
   "source": [
    "# Automated Map Checking ArcGIS Analysis\n",
    "## AMC version 1.5 Jupyter Notebook\n",
    "---"
   ]
  },
  {
   "cell_type": "markdown",
   "metadata": {},
   "source": [
    "## Part 1. Preliminaries"
   ]
  },
  {
   "cell_type": "markdown",
   "metadata": {},
   "source": [
    "Import python libraries"
   ]
  },
  {
   "cell_type": "code",
   "execution_count": 1,
   "metadata": {},
   "outputs": [],
   "source": [
    "import os, arcpy"
   ]
  },
  {
   "cell_type": "markdown",
   "metadata": {},
   "source": [
    "Define project directories and input/output paths.\n",
    "\n",
    "The directory \"GITREPOS\" has to be added to the computer's environmental variables and point to the GitHub local repository on the local computer. In this way, the code can run on any computer regardless of the location of the GitHub repository's local folder."
   ]
  },
  {
   "cell_type": "code",
   "execution_count": 16,
   "metadata": {},
   "outputs": [
    {
     "name": "stdout",
     "output_type": "stream",
     "text": [
      "Current Directory: C:\\Users\\ktale\\Source\\Repos\\ktalexan\\OCAMC\\amc15\n"
     ]
    }
   ],
   "source": [
    "prjdir = os.path.join(os.environ[\"GITREPOS\"], \"OCAMC\", \"amc15\")\n",
    "os.chdir(prjdir)\n",
    "print(\"Current Directory: {}\".format(os.getcwd()))"
   ]
  },
  {
   "cell_type": "markdown",
   "metadata": {},
   "source": [
    "The input/output project folders, and the path to the CAD drawing data file to be used for the analysis."
   ]
  },
  {
   "cell_type": "code",
   "execution_count": 8,
   "metadata": {},
   "outputs": [],
   "source": [
    "prjin = os.path.join(prjdir, \"Test\", \"Input\")\n",
    "prjout = os.path.join(prjdir, \"Test\", \"Output\")\n",
    "prjcad = os.path.join(prjin, \"TR18141_REVISION3_MASTER.dwg\")"
   ]
  },
  {
   "cell_type": "markdown",
   "metadata": {},
   "source": []
  }
 ],
 "metadata": {
  "kernelspec": {
   "display_name": "ArcGISPro",
   "language": "Python",
   "name": "python3"
  },
  "language_info": {
   "file_extension": ".py",
   "name": "python",
   "version": "3"
  }
 },
 "nbformat": 4,
 "nbformat_minor": 2
}
